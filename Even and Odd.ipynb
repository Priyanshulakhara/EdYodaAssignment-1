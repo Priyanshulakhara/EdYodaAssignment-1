{
 "cells": [
  {
   "cell_type": "code",
   "execution_count": 15,
   "id": "cd1ae2a5",
   "metadata": {},
   "outputs": [
    {
     "name": "stdout",
     "output_type": "stream",
     "text": [
      "10\n",
      "Number of even numbers :  4\n",
      "Number of odd numbers :   5\n"
     ]
    }
   ],
   "source": [
    "a = int(input())\n",
    "count_odd = 0\n",
    "count_even = 0\n",
    "for i in range(1,a):\n",
    "    if i%2 == 0:\n",
    "        count_even += 1\n",
    "        \n",
    "    else : \n",
    "        count_odd += 1\n",
    "\n",
    "print (\"Number of even numbers : \",count_even)\n",
    "print (\"Number of odd numbers :  \",count_odd)"
   ]
  },
  {
   "cell_type": "code",
   "execution_count": null,
   "id": "21f52d5d",
   "metadata": {},
   "outputs": [],
   "source": []
  }
 ],
 "metadata": {
  "kernelspec": {
   "display_name": "Python 3 (ipykernel)",
   "language": "python",
   "name": "python3"
  },
  "language_info": {
   "codemirror_mode": {
    "name": "ipython",
    "version": 3
   },
   "file_extension": ".py",
   "mimetype": "text/x-python",
   "name": "python",
   "nbconvert_exporter": "python",
   "pygments_lexer": "ipython3",
   "version": "3.10.1"
  }
 },
 "nbformat": 4,
 "nbformat_minor": 5
}
